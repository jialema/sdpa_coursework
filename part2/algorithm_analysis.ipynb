{
 "cells": [
  {
   "cell_type": "markdown",
   "metadata": {},
   "source": [
    "# Part 2: Algorithm Analysis (20%)\n",
    "Given two lists L1 and L2 of size N and M respectively, produce an output list that is L1 sorted in such a way that the ordering of the elements is specified by the sequence of elements in L2. For any elements in L1 that are not present in L2, append them at the end of the output-list in sorted order. \n",
    "\n",
    "**Examples:** \n",
    "\n",
    "**Input:** L1 = [2, 1, 2, 5, 7, 1, 9, 3, 6, 8, 8] <br/>\n",
    "        &emsp; &emsp; &nbsp; L2 = [2, 1, 8, 3]\n",
    "\n",
    "**Output:** [2, 2, 1, 1, 8, 8, 3, 5, 6, 7, 9]\n",
    "\n",
    "**Input:** L1 = [2, 6, 7, 5, 2, 6, 8, 4]<br/>\n",
    "        &emsp; &emsp; &nbsp; L2 = [2, 6, 4, 5]\n",
    "\n",
    "**Output:** [2, 2, 6, 6, 4, 5, 7 8]\n",
    "\n",
    "Write a script to implement this sorting method. Use Jupyter notebook markdown cells to answer the following questions:\n",
    "\n",
    "- What is the complexity of this sorting algorithm?\n",
    "- How is the complexity affected if L2 is much larger than L1? And what if they are of the same size?"
   ]
  },
  {
   "cell_type": "code",
   "execution_count": 1,
   "metadata": {},
   "outputs": [],
   "source": [
    "import os\n",
    "import numpy as np\n",
    "\n",
    "CASE = {\"1\":\n",
    "            {\"L1\": [2, 1, 2, 5, 7, 1, 9, 3, 6, 8, 8],\n",
    "             \"L2\": [2, 1, 8, 3]},\n",
    "        \"2\":\n",
    "            {\"L1\": [2, 6, 7, 5, 2, 6, 8, 4],\n",
    "             \"L2\": [2, 6, 4, 5]}\n",
    "       }"
   ]
  },
  {
   "cell_type": "markdown",
   "metadata": {},
   "source": [
    "### Algorithm 1  \n",
    "Time complexity: O(n, m) = n * m <br/>"
   ]
  },
  {
   "cell_type": "code",
   "execution_count": 2,
   "metadata": {},
   "outputs": [],
   "source": [
    "def process_1(L1, L2):\n",
    "    L1_1 = list()\n",
    "    L1_2 = list()\n",
    "    \n",
    "    # time complexity = n * m\n",
    "    for ele in L1:\n",
    "        if ele in L2:\n",
    "            index = L2.index(ele)\n",
    "            L1_1.append((index, ele))\n",
    "        else:\n",
    "            L1_2.append(ele)\n",
    "            \n",
    "    # time complexity = nlogn\n",
    "    L1_1 = sorted(L1_1, key=lambda d:d[0])\n",
    "    L1_1 = [ele[1] for ele in L1_1]\n",
    "    L1_2.sort()\n",
    "    \n",
    "    output = L1_1 + L1_2\n",
    "    print(output)\n"
   ]
  },
  {
   "cell_type": "markdown",
   "metadata": {},
   "source": [
    "### Algorithm 2\n",
    "Time complexity: O(n, m) = nlogn + m <br/>"
   ]
  },
  {
   "cell_type": "code",
   "execution_count": 3,
   "metadata": {},
   "outputs": [],
   "source": [
    "def process_2(L1, L2):\n",
    "    print(\"L1:\", L1)\n",
    "    print(\"L2:\", L2)\n",
    "    \n",
    "    dict_cnt = dict()\n",
    "    list_rest = list()\n",
    "    result = list()\n",
    "    \n",
    "    # Set L2 as a dictionary for query\n",
    "    # Time complexity = m\n",
    "    for ele in L2:\n",
    "        dict_cnt[ele] = 0\n",
    "    \n",
    "    # Count the number of elements in L1\n",
    "    # Time complexity = n\n",
    "    for ele in L1:\n",
    "        if ele in dict_cnt:\n",
    "            dict_cnt[ele] += 1\n",
    "        else:\n",
    "            list_rest.append(ele)\n",
    "    \n",
    "    # The left part of the result list is generated according to the count of each element in L2 that occurs in L1.\n",
    "    # Time complexity = m\n",
    "    for key in L2:\n",
    "        if dict_cnt[key] != 0: \n",
    "            result.extend([key] * dict_cnt[key])\n",
    "                \n",
    "    # Sort the list that is made up of the rest elements.\n",
    "    # Time complexity = nlogn\n",
    "    list_rest.sort()\n",
    "    \n",
    "    # Generate final result\n",
    "    result += list_rest\n",
    "    print(\"Output:\", result)\n",
    "        "
   ]
  },
  {
   "cell_type": "code",
   "execution_count": 4,
   "metadata": {},
   "outputs": [
    {
     "name": "stdout",
     "output_type": "stream",
     "text": [
      "L1: [2, 1, 2, 5, 7, 1, 9, 3, 6, 8, 8]\n",
      "L2: [2, 1, 8, 3]\n",
      "Output: [2, 2, 1, 1, 8, 8, 3, 5, 6, 7, 9]\n"
     ]
    }
   ],
   "source": [
    "process_2(CASE[\"1\"][\"L1\"], CASE[\"1\"][\"L2\"])"
   ]
  },
  {
   "cell_type": "markdown",
   "metadata": {},
   "source": [
    "Answer 1: <br/>\n",
    "&nbsp;&nbsp;&nbsp;&nbsp;&nbsp;&nbsp;    Time complexity O(n, m) = nlogn + m <br/>\n",
    "\n",
    "Answer 2: <br/>\n",
    "&nbsp;&nbsp;&nbsp;&nbsp;&nbsp;&nbsp;    When L2 is much larger than L1, Time complexity O(n, m) = m <br/>\n",
    "&nbsp;&nbsp;&nbsp;&nbsp;&nbsp;&nbsp;    When they are the same size, Time complexity O(n, m) = nlogn"
   ]
  }
 ],
 "metadata": {
  "kernelspec": {
   "display_name": "Python 3",
   "language": "python",
   "name": "python3"
  },
  "language_info": {
   "codemirror_mode": {
    "name": "ipython",
    "version": 3
   },
   "file_extension": ".py",
   "mimetype": "text/x-python",
   "name": "python",
   "nbconvert_exporter": "python",
   "pygments_lexer": "ipython3",
   "version": "3.7.6"
  }
 },
 "nbformat": 4,
 "nbformat_minor": 4
}
